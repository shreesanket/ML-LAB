{
  "nbformat": 4,
  "nbformat_minor": 0,
  "metadata": {
    "colab": {
      "provenance": []
    },
    "kernelspec": {
      "name": "python3",
      "display_name": "Python 3"
    },
    "language_info": {
      "name": "python"
    }
  },
  "cells": [
    {
      "cell_type": "code",
      "execution_count": 1,
      "metadata": {
        "id": "8RhbLgGJmVoM",
        "colab": {
          "base_uri": "https://localhost:8080/"
        },
        "outputId": "c790630c-982c-459f-a8e2-00c4825fb027"
      },
      "outputs": [
        {
          "output_type": "stream",
          "name": "stdout",
          "text": [
            "Model Performance WITHOUT PCA:\n",
            "SVM: Accuracy = 0.8967\n",
            "Logistic Regression: Accuracy = 0.8859\n",
            "Random Forest: Accuracy = 0.8750\n",
            "Confusion Matrix (Random Forest):\n",
            "[[69 13]\n",
            " [10 92]]\n",
            "\n",
            "Model Performance WITH PCA:\n",
            "SVM (PCA): Accuracy = 0.8913\n",
            "Logistic Regression (PCA): Accuracy = 0.8859\n",
            "Random Forest (PCA): Accuracy = 0.8967\n",
            "\n",
            "Best model without PCA: SVM (Accuracy: 0.8967)\n",
            "Number of PCA components: 14\n"
          ]
        }
      ],
      "source": [
        "import pandas as pd\n",
        "import numpy as np\n",
        "from sklearn.model_selection import train_test_split\n",
        "from sklearn.preprocessing import LabelEncoder, OneHotEncoder, StandardScaler\n",
        "from sklearn.compose import ColumnTransformer\n",
        "from sklearn.pipeline import Pipeline\n",
        "from sklearn.svm import SVC\n",
        "from sklearn.linear_model import LogisticRegression\n",
        "from sklearn.ensemble import RandomForestClassifier\n",
        "from sklearn.metrics import accuracy_score, confusion_matrix\n",
        "from sklearn.decomposition import PCA\n",
        "\n",
        "# Load data\n",
        "df = pd.read_csv('/content/heart.csv')\n",
        "\n",
        "# Identify categorical columns\n",
        "binary_cols = ['Sex', 'ExerciseAngina']  # M/F, Y/N\n",
        "multi_cols = ['ChestPainType', 'RestingECG', 'ST_Slope']  # More than 2 categories\n",
        "\n",
        "# Label encode binary columns\n",
        "le = LabelEncoder()\n",
        "for col in binary_cols:\n",
        "    df[col] = le.fit_transform(df[col])\n",
        "\n",
        "# One-hot encode multi-class columns\n",
        "df = pd.get_dummies(df, columns=multi_cols)\n",
        "\n",
        "# Split features and target\n",
        "X = df.drop('HeartDisease', axis=1)\n",
        "y = df['HeartDisease']\n",
        "\n",
        "# Split train/test\n",
        "X_train, X_test, y_train, y_test = train_test_split(X, y, test_size=0.2, random_state=42, stratify=y)\n",
        "\n",
        "# Scale features\n",
        "scaler = StandardScaler()\n",
        "X_train_scaled = scaler.fit_transform(X_train)\n",
        "X_test_scaled = scaler.transform(X_test)\n",
        "\n",
        "# Define models\n",
        "models = {\n",
        "    'SVM': SVC(random_state=42),\n",
        "    'Logistic Regression': LogisticRegression(max_iter=1000, random_state=42),\n",
        "    'Random Forest': RandomForestClassifier(random_state=42)\n",
        "}\n",
        "\n",
        "print(\"Model Performance WITHOUT PCA:\")\n",
        "best_acc = 0\n",
        "best_model = None\n",
        "\n",
        "for name, model in models.items():\n",
        "    model.fit(X_train_scaled, y_train)\n",
        "    y_pred = model.predict(X_test_scaled)\n",
        "    acc = accuracy_score(y_test, y_pred)\n",
        "    print(f\"{name}: Accuracy = {acc:.4f}\")\n",
        "    if acc > best_acc:\n",
        "        best_acc = acc\n",
        "        best_model = name\n",
        "    if name == 'Random Forest':  # Example: Show confusion matrix for RF\n",
        "        print(\"Confusion Matrix (Random Forest):\")\n",
        "        print(confusion_matrix(y_test, y_pred))\n",
        "\n",
        "# Apply PCA\n",
        "pca = PCA(n_components=0.95, random_state=42)  # Keep 95% variance\n",
        "X_train_pca = pca.fit_transform(X_train_scaled)\n",
        "X_test_pca = pca.transform(X_test_scaled)\n",
        "\n",
        "print(\"\\nModel Performance WITH PCA:\")\n",
        "for name, model in models.items():\n",
        "    model.fit(X_train_pca, y_train)\n",
        "    y_pred = model.predict(X_test_pca)\n",
        "    acc = accuracy_score(y_test, y_pred)\n",
        "    print(f\"{name} (PCA): Accuracy = {acc:.4f}\")\n",
        "\n",
        "print(f\"\\nBest model without PCA: {best_model} (Accuracy: {best_acc:.4f})\")\n",
        "print(f\"Number of PCA components: {pca.n_components_}\")\n"
      ]
    },
    {
      "cell_type": "code",
      "source": [],
      "metadata": {
        "id": "naroOAyGqJXO"
      },
      "execution_count": null,
      "outputs": []
    }
  ]
}